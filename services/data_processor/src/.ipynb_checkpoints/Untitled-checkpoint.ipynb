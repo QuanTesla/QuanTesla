{
 "cells": [
  {
   "cell_type": "code",
   "execution_count": 1,
   "metadata": {},
   "outputs": [],
   "source": [
    "import yfinance as yf\n",
    "import pandas as pd\n",
    "import plotly.express as px\n",
    "\n",
    "\n",
    "# Wrapper to get a dataframe for the financial history of a company\n",
    "def create_stock_data(company: str, period: str = \"1y\", interval: str = \"1d\") -> pd.DataFrame:\n",
    "    return yf.Ticker(company).history(period, interval).T.transpose()\n",
    "\n",
    "#     tsla = yf.Ticker(\"TSLA\").history(period=\"1y\", interval=\"1d\").T.transpose()\n",
    "\n",
    "#     # This creates the graph where the x axis is the datetime of the graph and the y\n",
    "#     # axis is the data from the open column\n",
    "#     fig = px.line(tsla, x=tsla.index, y=\"Open\")\n",
    "\n",
    "#     # Show the data\n",
    "#     fig.show()"
   ]
  },
  {
   "cell_type": "code",
   "execution_count": null,
   "metadata": {},
   "outputs": [],
   "source": []
  }
 ],
 "metadata": {
  "kernelspec": {
   "display_name": "Python 3",
   "language": "python",
   "name": "python3"
  },
  "language_info": {
   "codemirror_mode": {
    "name": "ipython",
    "version": 3
   },
   "file_extension": ".py",
   "mimetype": "text/x-python",
   "name": "python",
   "nbconvert_exporter": "python",
   "pygments_lexer": "ipython3",
   "version": "3.8.1"
  }
 },
 "nbformat": 4,
 "nbformat_minor": 4
}
